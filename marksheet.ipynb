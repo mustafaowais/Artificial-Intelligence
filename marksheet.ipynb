{
 "cells": [
  {
   "cell_type": "code",
   "execution_count": 1,
   "metadata": {},
   "outputs": [
    {
     "name": "stdout",
     "output_type": "stream",
     "text": [
      "eng 80\n",
      "urdu 90\n",
      "maths 95\n",
      "science 77\n",
      "islam 85\n",
      "percentage =  85.4\n",
      "B grade\n"
     ]
    }
   ],
   "source": [
    "sub = [\"eng\", \"urdu\", \"maths\", \"science\", \"islam\"]\n",
    "marks = [80, 90, 95, 77, 85]\n",
    "print(sub[0],marks[0])\n",
    "print(sub[1],marks[1])\n",
    "print(sub[2],marks[2])\n",
    "print(sub[3],marks[3])\n",
    "print(sub[4],marks[4])\n",
    "total = marks[0]+marks[1]+marks[2]+marks[3]+marks[4]\n",
    "per = round (total/500*100 ,2)\n",
    "print(\"percentage = \",per)\n",
    "if per>90:\n",
    "    print(\"A grade\")\n",
    "elif per>80:\n",
    "    print(\"B grade\")\n",
    "elif per>70:\n",
    "    print(\"C grade\")\n",
    "else:\n",
    "    print(\"fail\")"
   ]
  },
  {
   "cell_type": "code",
   "execution_count": null,
   "metadata": {},
   "outputs": [],
   "source": []
  }
 ],
 "metadata": {
  "kernelspec": {
   "display_name": "Python 3",
   "language": "python",
   "name": "python3"
  },
  "language_info": {
   "codemirror_mode": {
    "name": "ipython",
    "version": 3
   },
   "file_extension": ".py",
   "mimetype": "text/x-python",
   "name": "python",
   "nbconvert_exporter": "python",
   "pygments_lexer": "ipython3",
   "version": "3.7.3"
  }
 },
 "nbformat": 4,
 "nbformat_minor": 2
}
