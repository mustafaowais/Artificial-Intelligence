{
 "cells": [
  {
   "cell_type": "code",
   "execution_count": 6,
   "metadata": {},
   "outputs": [
    {
     "name": "stdout",
     "output_type": "stream",
     "text": [
      "Enter value of radius: 4.5\n",
      "Area of circle is:  63.61\n"
     ]
    }
   ],
   "source": [
    "#Q1 Calculate Area Of Circle.\n",
    "pi= 3.141\n",
    "radius = float(input(\"Enter value of radius: \"))\n",
    "area = round (pi * (radius*radius),2)\n",
    "print(\"Area of circle is: \",area)"
   ]
  },
  {
   "cell_type": "code",
   "execution_count": 4,
   "metadata": {},
   "outputs": [
    {
     "name": "stdout",
     "output_type": "stream",
     "text": [
      "Enter Your number:-77\n",
      "Negative Number Entered\n"
     ]
    }
   ],
   "source": [
    "#Q2 Check Number either positive, negative or zero.\n",
    "number = float(input(\"Enter Your number:\"))\n",
    "if number>0:\n",
    "    print(\"Positive Number Entered\")\n",
    "elif number==0:\n",
    "    print(\"Zero Entered\")\n",
    "else:\n",
    "    print(\"Negative Number Entered\")"
   ]
  },
  {
   "cell_type": "code",
   "execution_count": 7,
   "metadata": {},
   "outputs": [
    {
     "name": "stdout",
     "output_type": "stream",
     "text": [
      "Enter Numenator: 6\n",
      "Enter Denomenator: 3\n",
      "Number 6 is Completely divided by 3\n"
     ]
    }
   ],
   "source": [
    "#Q3 Divisibility Check of two numbers.\n",
    "numenator = int(input(\"Enter Numenator: \"))\n",
    "denominator = int(input(\"Enter Denomenator: \"))\n",
    "if numenator%denominator==0:\n",
    "    print(\"Number\",numenator, \"is Completely divided by\",denominator)\n",
    "else:\n",
    "        print(\"Number\",numenator, \"is not Completely divided by\",denominator)"
   ]
  },
  {
   "cell_type": "code",
   "execution_count": 9,
   "metadata": {},
   "outputs": [
    {
     "name": "stdout",
     "output_type": "stream",
     "text": [
      "Enter a date in (dd/mm/yy) format: 03/06/1978\n",
      "Enter a date in (dd/mm/yy) format: 03/02/1999\n",
      "There are  7550 days between  1978-06-03  and  1999-02-03\n"
     ]
    }
   ],
   "source": [
    "#Q4 Days Calculator.\n",
    "\n",
    "from datetime import datetime\n",
    "\n",
    "startDate = input(\"Enter a date in (dd/mm/yy) format: \")\n",
    "endDate = input(\"Enter a date in (dd/mm/yy) format: \")\n",
    "\n",
    "finalstartDate = datetime.strptime(startDate,\"%d/%m/%Y\").date()\n",
    "finalendDate = datetime.strptime(endDate,\"%d/%m/%Y\").date()\n",
    "\n",
    "remainingDays = finalendDate - finalstartDate\n",
    "\n",
    "print (\"There are \", remainingDays.days, \"days between \", finalstartDate,\" and \",finalendDate)"
   ]
  },
  {
   "cell_type": "code",
   "execution_count": 14,
   "metadata": {},
   "outputs": [
    {
     "name": "stdout",
     "output_type": "stream",
     "text": [
      "Enter radius of a circle: 4.5\n",
      "Volume of the Sphere is:  381.63\n"
     ]
    }
   ],
   "source": [
    "#Q5 Calculate Volume Of Sphere.\n",
    "pi= 3.141\n",
    "radius = float(input(\"Enter radius of a circle: \"))\n",
    "volume = round(4.0/3.0*pi*radius**3,2)\n",
    "print(\"Volume of the Sphere is: \",volume)"
   ]
  },
  {
   "cell_type": "code",
   "execution_count": 15,
   "metadata": {},
   "outputs": [
    {
     "name": "stdout",
     "output_type": "stream",
     "text": [
      "Enter String: owais\n",
      "How many copies of String you needed? 5\n",
      "owaisowaisowaisowaisowais\n"
     ]
    }
   ],
   "source": [
    "#Q6 Copy String n times.\n",
    "i = str(input(\"Enter String: \"))\n",
    "result = \"\"\n",
    "j = int(input(\"How many copies of String you needed? \"))\n",
    "print(j*i)"
   ]
  },
  {
   "cell_type": "code",
   "execution_count": 16,
   "metadata": {},
   "outputs": [
    {
     "name": "stdout",
     "output_type": "stream",
     "text": [
      "Enter Your Number: 5\n",
      "5 is Odd\n"
     ]
    }
   ],
   "source": [
    "#Q7 Check If number is Even Or Odd.\n",
    "num = int(input(\"Enter Your Number: \"))\n",
    "mode = num % 2\n",
    "if mode > 0:\n",
    "    print(num,\"is Odd\")\n",
    "else:\n",
    "    print(num,\"is Even\")"
   ]
  },
  {
   "cell_type": "code",
   "execution_count": 19,
   "metadata": {},
   "outputs": [
    {
     "name": "stdout",
     "output_type": "stream",
     "text": [
      "Enter a Character o\n",
      "o  is Vowel\n"
     ]
    }
   ],
   "source": [
    "#Q8 Vowel Tester.\n",
    "\n",
    "vowels = ['A','E','I','O','U','a','e','i','o','u']\n",
    "\n",
    "userInput = input(\"Enter a Character \")\n",
    "\n",
    "if userInput in vowels:\n",
    "    print(userInput, \" is Vowel\")\n",
    "else:\n",
    "    print(userInput,\" is not Vowel\")"
   ]
  },
  {
   "cell_type": "code",
   "execution_count": 23,
   "metadata": {},
   "outputs": [
    {
     "name": "stdout",
     "output_type": "stream",
     "text": [
      "Enter magnitude of Triangle base: 65\n",
      "Enter Magnitude of Triangle Height: 8\n",
      "Area of a Triangle with Height  8.0  and Base  65.0  is =  260.0\n"
     ]
    }
   ],
   "source": [
    "#Q9 Area of Triangle.\n",
    "mbase = float(input(\"Enter magnitude of Triangle base: \"))\n",
    "mheight = float(input(\"Enter Magnitude of Triangle Height: \"))\n",
    "area = mbase*mheight/2\n",
    "print(\"Area of a Triangle with Height \",mheight, \" and Base \",mbase,\" is = \",area)"
   ]
  },
  {
   "cell_type": "code",
   "execution_count": 4,
   "metadata": {},
   "outputs": [
    {
     "name": "stdout",
     "output_type": "stream",
     "text": [
      "Please enter principal amount: 50000\n",
      "Please Enter Rate of interest in %: 0.5\n",
      "Enter number of years for investment: 10\n",
      "Your Interest rate is =  2883251.953125\n"
     ]
    }
   ],
   "source": [
    "#Q10 Calculate Interest.\n",
    "p = float(input(\"Please enter principal amount: \"))\n",
    "inrate = float(input(\"Please Enter Rate of interest in %: \"))\n",
    "time = float(input(\"Enter number of years for investment: \"))\n",
    "a = p* (pow((1 + inrate*100 / 100), time))\n",
    "print(\"Your Interest rate is = \",a)"
   ]
  },
  {
   "cell_type": "code",
   "execution_count": 5,
   "metadata": {},
   "outputs": [
    {
     "name": "stdout",
     "output_type": "stream",
     "text": [
      "Enter Co-Ordinate For x1 :2\n",
      "Enter Co-Ordinate For x2 :4\n",
      "Enter Co-Ordinate For y1 :4\n",
      "Enter Co-Ordinate For y2 :4\n",
      "Euclidean Distance is =  2.0\n"
     ]
    }
   ],
   "source": [
    "#Q11 Euclidean distcance.\n",
    "import math\n",
    "\n",
    "x1 = int(input(\"Enter Co-Ordinate For x1 :\"))\n",
    "x2 = int(input(\"Enter Co-Ordinate For x2 :\"))\n",
    "y1 = int(input(\"Enter Co-Ordinate For y1 :\"))\n",
    "y2 = int(input(\"Enter Co-Ordinate For y2 :\"))\n",
    "\n",
    "distance = math.sqrt( ((x1-y1)**2)+((x2-y2)**2) )\n",
    "\n",
    "print(\"Euclidean Distance is = \",distance)"
   ]
  },
  {
   "cell_type": "code",
   "execution_count": 8,
   "metadata": {},
   "outputs": [
    {
     "name": "stdout",
     "output_type": "stream",
     "text": [
      "Enter Height in feet: 6\n",
      "There are  182.88  cm in  6.0  ft\n"
     ]
    }
   ],
   "source": [
    "#Q12 Feet to centimeter Converter.\n",
    "\n",
    "userInput = float(input(\"Enter Height in feet: \"))\n",
    "\n",
    "totalCm = userInput * 30.48\n",
    "\n",
    "print(\"There are \",totalCm , \" cm in \",userInput,\" ft\")"
   ]
  },
  {
   "cell_type": "code",
   "execution_count": 11,
   "metadata": {},
   "outputs": [
    {
     "name": "stdout",
     "output_type": "stream",
     "text": [
      "Enter Your Height in Cm: 66.6\n",
      "Enter Your Weight in kg: 72\n",
      "BMI Of User is:  162.32\n"
     ]
    }
   ],
   "source": [
    "#Q13 BMI Calculator.\n",
    "\n",
    "userHeight = float(input(\"Enter Your Height in Cm: \"))\n",
    "userWeight = float(input(\"Enter Your Weight in kg: \"))\n",
    "heightInMeters = userHeight * 0.01\n",
    "totalBmi = round(userWeight / (heightInMeters * heightInMeters),2)\n",
    "print(\"BMI Of User is: \",totalBmi)"
   ]
  },
  {
   "cell_type": "code",
   "execution_count": 1,
   "metadata": {},
   "outputs": [
    {
     "name": "stdout",
     "output_type": "stream",
     "text": [
      "Enter Number: 5\n",
      "15\n"
     ]
    }
   ],
   "source": [
    "#Q14 Sum of n Positive Number\n",
    "\n",
    "sumNumber = 0\n",
    "userNumber =int(input(\"Enter Number: \"))\n",
    "if userNumber >=0:\n",
    "    total = int(userNumber * (userNumber + 1)/2)\n",
    "    print(total)\n",
    "else:\n",
    "    print(userNumber,\" is not positive Number\")"
   ]
  },
  {
   "cell_type": "code",
   "execution_count": 2,
   "metadata": {},
   "outputs": [
    {
     "name": "stdout",
     "output_type": "stream",
     "text": [
      "Enter a Number: 66\n",
      "6 + 6\n",
      "Sum Of  6 + 6  is  12\n"
     ]
    }
   ],
   "source": [
    "#Q15 Digit sum of a Number.\n",
    "\n",
    "number =int(input(\"Enter a Number: \"))\n",
    "sumnum = str(number)\n",
    "lst = list(sumnum)\n",
    "totalDigits = ' + '.join(sumnum)\n",
    "print(totalDigits)\n",
    "total = 0\n",
    "while number>0:\n",
    "    digit = number%10\n",
    "    total = total+digit\n",
    "    number = number//10\n",
    "print(\"Sum Of \", totalDigits, \" is \", total)"
   ]
  },
  {
   "cell_type": "code",
   "execution_count": 4,
   "metadata": {},
   "outputs": [
    {
     "name": "stdout",
     "output_type": "stream",
     "text": [
      "Enter a number:  22\n",
      "Binary Representation of  22  is  1101 "
     ]
    }
   ],
   "source": [
    "#Q16 Decimal To Binary Converter\n",
    "\n",
    "decimalNumber = int(input(\"Enter a number:  \"))\n",
    "finalDecimalNumber = decimalNumber\n",
    "\n",
    "# to store binary numbers in list\n",
    "array=[]\n",
    "\n",
    "while(decimalNumber>0):\n",
    "    digit=decimalNumber%2\n",
    "    array.append(digit)\n",
    "    decimalNumber=decimalNumber//2\n",
    "    \n",
    "    # Converting integer list to string list\n",
    "    s = [str(i) for i in array] \n",
    "      \n",
    "    # Join list items using join() \n",
    "    res = int(\"\".join(s))     \n",
    "array.reverse()\n",
    "\n",
    "print(\"Binary Representation of \", finalDecimalNumber,\" is \",res,end=\" \")"
   ]
  },
  {
   "cell_type": "code",
   "execution_count": 5,
   "metadata": {},
   "outputs": [
    {
     "name": "stdout",
     "output_type": "stream",
     "text": [
      "Enter a Binary number: 1101\n",
      "Decimal Representation of  1101  is  13\n"
     ]
    }
   ],
   "source": [
    "#Q17 Binary To Decimal Converter\n",
    "\n",
    "binaryNumber = input(\"Enter a Binary number: \")\n",
    "binaryNumberList = list(binaryNumber)\n",
    "defaultValue = 0\n",
    "actualNumber = str(binaryNumber)\n",
    "for d in range(len(binaryNumberList)):\n",
    "    numbers = binaryNumberList.pop()\n",
    "    if numbers == '1':\n",
    "        defaultValue = defaultValue + pow(2, d)\n",
    "print(\"Decimal Representation of \", actualNumber,\" is \" ,defaultValue)"
   ]
  },
  {
   "cell_type": "code",
   "execution_count": 6,
   "metadata": {},
   "outputs": [
    {
     "name": "stdout",
     "output_type": "stream",
     "text": [
      "Enter Text: Owais\n",
      "Vowels :  3\n",
      "Consonants :  2\n"
     ]
    }
   ],
   "source": [
    "#Q18 Vowel and Consonants Counter. \n",
    "\n",
    "userInput = input(\"Enter Text: \")\n",
    "vowels = 0\n",
    "consonants = 0\n",
    "for i in userInput:\n",
    "    if(i == 'a' or i == 'e' or i == 'i' or i == 'o' or i == 'u'\n",
    "       or i == 'A' or i == 'E' or i == 'I' or i == 'O' or i == 'U'):\n",
    "        vowels = vowels + 1\n",
    "    else:\n",
    "        consonants = consonants + 1\n",
    "print(\"Vowels : \",vowels)\n",
    "print(\"Consonants : \",consonants)"
   ]
  },
  {
   "cell_type": "code",
   "execution_count": 1,
   "metadata": {},
   "outputs": [
    {
     "name": "stdout",
     "output_type": "stream",
     "text": [
      "Enter any word:  :afeefa\n",
      "Word  afeefa  is Palindrome\n"
     ]
    }
   ],
   "source": [
    "#19 Palindrome tester \n",
    "\n",
    "userInput = input(\"Enter any word:  :\")\n",
    "palindrome = userInput[::-1]\n",
    "if userInput == palindrome:\n",
    "    print(\"Word \" , userInput,\" is Palindrome\")\n",
    "else:\n",
    "    print(\"Word \" , userInput,\" is not Palindrome\")"
   ]
  },
  {
   "cell_type": "code",
   "execution_count": 4,
   "metadata": {},
   "outputs": [
    {
     "name": "stdout",
     "output_type": "stream",
     "text": [
      "Please Enter your String: My Name Is Owais :)\n",
      "\n",
      "Total Number of Alphabets in this String is:   13\n",
      "Total Number of Digits in this String is:   0\n",
      "Total Number of Special Characters in this String is:   2\n",
      "Total Number of Spaces in this String is:   4\n"
     ]
    }
   ],
   "source": [
    "#Q20 Count Alphabets, Numbers and Special Characters.  \n",
    "\n",
    "userInput = input(\"Please Enter your String: \")\n",
    "alphabets = digits = special = 0\n",
    "spaces = userInput.count(' ')\n",
    "for i in range(len(userInput)):\n",
    "    if(userInput[i].isalpha()):\n",
    "        alphabets = alphabets + 1\n",
    "    elif(userInput[i].isdigit()):\n",
    "        digits = digits + 1\n",
    "    else:\n",
    "        special = special + 1\n",
    "specialCharacter = special - spaces\n",
    "print(\"\\nTotal Number of Alphabets in this String is:  \", alphabets)\n",
    "print(\"Total Number of Digits in this String is:  \", digits)\n",
    "print(\"Total Number of Special Characters in this String is:  \", specialCharacter) \n",
    "print(\"Total Number of Spaces in this String is:  \", spaces)"
   ]
  },
  {
   "cell_type": "code",
   "execution_count": 5,
   "metadata": {},
   "outputs": [
    {
     "name": "stdout",
     "output_type": "stream",
     "text": [
      "\n",
      "* \n",
      "* * \n",
      "* * * \n",
      "* * * * \n",
      "* * * * * \n",
      "* * * * \n",
      "* * * \n",
      "* * \n",
      "* \n"
     ]
    }
   ],
   "source": [
    "#21 Pattern 1\n",
    "\n",
    "number=5;\n",
    "for i in range(number):\n",
    "    for j in range(i):\n",
    "        print ('* ', end=\"\")     \n",
    "    print('')\n",
    "for i in range(number,0,-1):\n",
    "    for j in range(i):\n",
    "        print('* ', end=\"\")\n",
    "    print('')"
   ]
  },
  {
   "cell_type": "code",
   "execution_count": 6,
   "metadata": {},
   "outputs": [
    {
     "name": "stdout",
     "output_type": "stream",
     "text": [
      "\n",
      "1\n",
      "12\n",
      "123\n",
      "1234\n",
      "12345\n",
      "1234\n",
      "123\n",
      "12\n",
      "1\n"
     ]
    }
   ],
   "source": [
    "#22  Pattern 2 \n",
    "\n",
    "number=5\n",
    "random = 1\n",
    "for i in range(number):\n",
    "    for j in range(i):\n",
    "        print (j+1, end=\"\")\n",
    "    \n",
    "    print('')\n",
    "\n",
    "for i in range(5,0,-1):\n",
    "    for j in range(i):\n",
    "        print(j+1, end=\"\")\n",
    "    print('')"
   ]
  },
  {
   "cell_type": "code",
   "execution_count": 7,
   "metadata": {},
   "outputs": [
    {
     "name": "stdout",
     "output_type": "stream",
     "text": [
      "\n",
      "1\n",
      "22\n",
      "333\n",
      "4444\n",
      "55555\n",
      "666666\n",
      "7777777\n",
      "88888888\n",
      "999999999\n"
     ]
    }
   ],
   "source": [
    "#23 Pattern 3\n",
    "\n",
    "for i in range(10):\n",
    "    print(str(i) * i)"
   ]
  },
  {
   "cell_type": "code",
   "execution_count": null,
   "metadata": {},
   "outputs": [],
   "source": []
  }
 ],
 "metadata": {
  "kernelspec": {
   "display_name": "Python 3",
   "language": "python",
   "name": "python3"
  },
  "language_info": {
   "codemirror_mode": {
    "name": "ipython",
    "version": 3
   },
   "file_extension": ".py",
   "mimetype": "text/x-python",
   "name": "python",
   "nbconvert_exporter": "python",
   "pygments_lexer": "ipython3",
   "version": "3.7.3"
  }
 },
 "nbformat": 4,
 "nbformat_minor": 2
}
